{
 "cells": [
  {
   "cell_type": "code",
   "execution_count": 1,
   "metadata": {},
   "outputs": [],
   "source": [
    "import pandas as pd\n",
    "import numpy as np\n",
    "import matplotlib.pyplot as plt\n",
    "from datetime import datetime\n",
    "%matplotlib inline"
   ]
  },
  {
   "cell_type": "code",
   "execution_count": 2,
   "metadata": {},
   "outputs": [
    {
     "data": {
      "text/html": [
       "<div>\n",
       "<style scoped>\n",
       "    .dataframe tbody tr th:only-of-type {\n",
       "        vertical-align: middle;\n",
       "    }\n",
       "\n",
       "    .dataframe tbody tr th {\n",
       "        vertical-align: top;\n",
       "    }\n",
       "\n",
       "    .dataframe thead th {\n",
       "        text-align: right;\n",
       "    }\n",
       "</style>\n",
       "<table border=\"1\" class=\"dataframe\">\n",
       "  <thead>\n",
       "    <tr style=\"text-align: right;\">\n",
       "      <th></th>\n",
       "      <th>Invoice ID</th>\n",
       "      <th>Date</th>\n",
       "      <th>Time</th>\n",
       "      <th>Gender</th>\n",
       "      <th>Location</th>\n",
       "      <th>City</th>\n",
       "      <th>Member</th>\n",
       "      <th>Category</th>\n",
       "      <th>Price</th>\n",
       "      <th>Quantity</th>\n",
       "      <th>Total</th>\n",
       "      <th>Payment</th>\n",
       "      <th>Rating</th>\n",
       "    </tr>\n",
       "  </thead>\n",
       "  <tbody>\n",
       "    <tr>\n",
       "      <td>0</td>\n",
       "      <td>460489604</td>\n",
       "      <td>1/25/2018</td>\n",
       "      <td>16:46</td>\n",
       "      <td>Male</td>\n",
       "      <td>Brookfield</td>\n",
       "      <td>NewYork</td>\n",
       "      <td>Yes</td>\n",
       "      <td>Groceries</td>\n",
       "      <td>30</td>\n",
       "      <td>1</td>\n",
       "      <td>30</td>\n",
       "      <td>Cash</td>\n",
       "      <td>2</td>\n",
       "    </tr>\n",
       "    <tr>\n",
       "      <td>1</td>\n",
       "      <td>471006167</td>\n",
       "      <td>3/19/2018</td>\n",
       "      <td>16:48</td>\n",
       "      <td>Female</td>\n",
       "      <td>Water tower</td>\n",
       "      <td>Chicago</td>\n",
       "      <td>Yes</td>\n",
       "      <td>Fashion</td>\n",
       "      <td>35</td>\n",
       "      <td>5</td>\n",
       "      <td>175</td>\n",
       "      <td>Card</td>\n",
       "      <td>3</td>\n",
       "    </tr>\n",
       "    <tr>\n",
       "      <td>2</td>\n",
       "      <td>411909258</td>\n",
       "      <td>2/25/2018</td>\n",
       "      <td>13:33</td>\n",
       "      <td>Male</td>\n",
       "      <td>Water tower</td>\n",
       "      <td>Chicago</td>\n",
       "      <td>No</td>\n",
       "      <td>Clothing</td>\n",
       "      <td>57</td>\n",
       "      <td>2</td>\n",
       "      <td>114</td>\n",
       "      <td>Cash</td>\n",
       "      <td>5</td>\n",
       "    </tr>\n",
       "    <tr>\n",
       "      <td>3</td>\n",
       "      <td>487313402</td>\n",
       "      <td>1/22/2018</td>\n",
       "      <td>13:38</td>\n",
       "      <td>Female</td>\n",
       "      <td>Park lane</td>\n",
       "      <td>Dallas</td>\n",
       "      <td>Yes</td>\n",
       "      <td>Sporting</td>\n",
       "      <td>89</td>\n",
       "      <td>4</td>\n",
       "      <td>356</td>\n",
       "      <td>Gpay</td>\n",
       "      <td>1</td>\n",
       "    </tr>\n",
       "    <tr>\n",
       "      <td>4</td>\n",
       "      <td>197763430</td>\n",
       "      <td>2/18/2018</td>\n",
       "      <td>15:31</td>\n",
       "      <td>Female</td>\n",
       "      <td>Park lane</td>\n",
       "      <td>Dallas</td>\n",
       "      <td>No</td>\n",
       "      <td>Books</td>\n",
       "      <td>82</td>\n",
       "      <td>5</td>\n",
       "      <td>410</td>\n",
       "      <td>Cash</td>\n",
       "      <td>4</td>\n",
       "    </tr>\n",
       "  </tbody>\n",
       "</table>\n",
       "</div>"
      ],
      "text/plain": [
       "   Invoice ID       Date   Time  Gender     Location     City Member  \\\n",
       "0   460489604  1/25/2018  16:46    Male   Brookfield  NewYork    Yes   \n",
       "1   471006167  3/19/2018  16:48  Female  Water tower  Chicago    Yes   \n",
       "2   411909258  2/25/2018  13:33    Male  Water tower  Chicago     No   \n",
       "3   487313402  1/22/2018  13:38  Female    Park lane   Dallas    Yes   \n",
       "4   197763430  2/18/2018  15:31  Female    Park lane   Dallas     No   \n",
       "\n",
       "    Category  Price  Quantity  Total Payment  Rating  \n",
       "0  Groceries     30         1     30    Cash       2  \n",
       "1    Fashion     35         5    175    Card       3  \n",
       "2   Clothing     57         2    114    Cash       5  \n",
       "3   Sporting     89         4    356    Gpay       1  \n",
       "4      Books     82         5    410    Cash       4  "
      ]
     },
     "metadata": {},
     "output_type": "display_data"
    },
    {
     "name": "stdout",
     "output_type": "stream",
     "text": [
      "(1000, 13)\n"
     ]
    }
   ],
   "source": [
    "df = pd.read_csv('sales.csv')\n",
    "display(df.head())\n",
    "print(df.shape)"
   ]
  },
  {
   "cell_type": "code",
   "execution_count": 3,
   "metadata": {},
   "outputs": [
    {
     "data": {
      "text/plain": [
       "0"
      ]
     },
     "execution_count": 3,
     "metadata": {},
     "output_type": "execute_result"
    }
   ],
   "source": [
    "df.duplicated().sum()"
   ]
  },
  {
   "cell_type": "code",
   "execution_count": 4,
   "metadata": {},
   "outputs": [],
   "source": [
    "df['Date'] = df['Date'].apply( lambda x : datetime.strptime(x, '%m/%d/%Y').date())"
   ]
  },
  {
   "cell_type": "code",
   "execution_count": 5,
   "metadata": {},
   "outputs": [
    {
     "name": "stdout",
     "output_type": "stream",
     "text": [
      "<class 'pandas.core.frame.DataFrame'>\n",
      "RangeIndex: 1000 entries, 0 to 999\n",
      "Data columns (total 13 columns):\n",
      "Invoice ID    1000 non-null int64\n",
      "Date          1000 non-null object\n",
      "Time          1000 non-null object\n",
      "Gender        1000 non-null object\n",
      "Location      1000 non-null object\n",
      "City          1000 non-null object\n",
      "Member        1000 non-null object\n",
      "Category      1000 non-null object\n",
      "Price         1000 non-null int64\n",
      "Quantity      1000 non-null int64\n",
      "Total         1000 non-null int64\n",
      "Payment       1000 non-null object\n",
      "Rating        1000 non-null int64\n",
      "dtypes: int64(5), object(8)\n",
      "memory usage: 101.7+ KB\n"
     ]
    }
   ],
   "source": [
    "df.info()"
   ]
  },
  {
   "cell_type": "code",
   "execution_count": 6,
   "metadata": {},
   "outputs": [
    {
     "data": {
      "text/html": [
       "<div>\n",
       "<style scoped>\n",
       "    .dataframe tbody tr th:only-of-type {\n",
       "        vertical-align: middle;\n",
       "    }\n",
       "\n",
       "    .dataframe tbody tr th {\n",
       "        vertical-align: top;\n",
       "    }\n",
       "\n",
       "    .dataframe thead th {\n",
       "        text-align: right;\n",
       "    }\n",
       "</style>\n",
       "<table border=\"1\" class=\"dataframe\">\n",
       "  <thead>\n",
       "    <tr style=\"text-align: right;\">\n",
       "      <th></th>\n",
       "      <th>Invoice ID</th>\n",
       "      <th>Date</th>\n",
       "      <th>Time</th>\n",
       "      <th>Gender</th>\n",
       "      <th>Location</th>\n",
       "      <th>City</th>\n",
       "      <th>Member</th>\n",
       "      <th>Category</th>\n",
       "      <th>Price</th>\n",
       "      <th>Quantity</th>\n",
       "      <th>Total</th>\n",
       "      <th>Payment</th>\n",
       "      <th>Rating</th>\n",
       "    </tr>\n",
       "  </thead>\n",
       "  <tbody>\n",
       "    <tr>\n",
       "      <td>0</td>\n",
       "      <td>460489604</td>\n",
       "      <td>2018-01-25</td>\n",
       "      <td>16:46</td>\n",
       "      <td>Male</td>\n",
       "      <td>Brookfield</td>\n",
       "      <td>NewYork</td>\n",
       "      <td>Yes</td>\n",
       "      <td>Groceries</td>\n",
       "      <td>30</td>\n",
       "      <td>1</td>\n",
       "      <td>30</td>\n",
       "      <td>Cash</td>\n",
       "      <td>2</td>\n",
       "    </tr>\n",
       "    <tr>\n",
       "      <td>1</td>\n",
       "      <td>471006167</td>\n",
       "      <td>2018-03-19</td>\n",
       "      <td>16:48</td>\n",
       "      <td>Female</td>\n",
       "      <td>Water tower</td>\n",
       "      <td>Chicago</td>\n",
       "      <td>Yes</td>\n",
       "      <td>Fashion</td>\n",
       "      <td>35</td>\n",
       "      <td>5</td>\n",
       "      <td>175</td>\n",
       "      <td>Card</td>\n",
       "      <td>3</td>\n",
       "    </tr>\n",
       "    <tr>\n",
       "      <td>2</td>\n",
       "      <td>411909258</td>\n",
       "      <td>2018-02-25</td>\n",
       "      <td>13:33</td>\n",
       "      <td>Male</td>\n",
       "      <td>Water tower</td>\n",
       "      <td>Chicago</td>\n",
       "      <td>No</td>\n",
       "      <td>Clothing</td>\n",
       "      <td>57</td>\n",
       "      <td>2</td>\n",
       "      <td>114</td>\n",
       "      <td>Cash</td>\n",
       "      <td>5</td>\n",
       "    </tr>\n",
       "    <tr>\n",
       "      <td>3</td>\n",
       "      <td>487313402</td>\n",
       "      <td>2018-01-22</td>\n",
       "      <td>13:38</td>\n",
       "      <td>Female</td>\n",
       "      <td>Park lane</td>\n",
       "      <td>Dallas</td>\n",
       "      <td>Yes</td>\n",
       "      <td>Sporting</td>\n",
       "      <td>89</td>\n",
       "      <td>4</td>\n",
       "      <td>356</td>\n",
       "      <td>Gpay</td>\n",
       "      <td>1</td>\n",
       "    </tr>\n",
       "    <tr>\n",
       "      <td>4</td>\n",
       "      <td>197763430</td>\n",
       "      <td>2018-02-18</td>\n",
       "      <td>15:31</td>\n",
       "      <td>Female</td>\n",
       "      <td>Park lane</td>\n",
       "      <td>Dallas</td>\n",
       "      <td>No</td>\n",
       "      <td>Books</td>\n",
       "      <td>82</td>\n",
       "      <td>5</td>\n",
       "      <td>410</td>\n",
       "      <td>Cash</td>\n",
       "      <td>4</td>\n",
       "    </tr>\n",
       "  </tbody>\n",
       "</table>\n",
       "</div>"
      ],
      "text/plain": [
       "   Invoice ID        Date   Time  Gender     Location     City Member  \\\n",
       "0   460489604  2018-01-25  16:46    Male   Brookfield  NewYork    Yes   \n",
       "1   471006167  2018-03-19  16:48  Female  Water tower  Chicago    Yes   \n",
       "2   411909258  2018-02-25  13:33    Male  Water tower  Chicago     No   \n",
       "3   487313402  2018-01-22  13:38  Female    Park lane   Dallas    Yes   \n",
       "4   197763430  2018-02-18  15:31  Female    Park lane   Dallas     No   \n",
       "\n",
       "    Category  Price  Quantity  Total Payment  Rating  \n",
       "0  Groceries     30         1     30    Cash       2  \n",
       "1    Fashion     35         5    175    Card       3  \n",
       "2   Clothing     57         2    114    Cash       5  \n",
       "3   Sporting     89         4    356    Gpay       1  \n",
       "4      Books     82         5    410    Cash       4  "
      ]
     },
     "execution_count": 6,
     "metadata": {},
     "output_type": "execute_result"
    }
   ],
   "source": [
    "sale_df = df.copy()\n",
    "sale_df.head()"
   ]
  },
  {
   "cell_type": "code",
   "execution_count": 7,
   "metadata": {},
   "outputs": [],
   "source": [
    "sale_df['Price'] = sale_df['Price'].astype('float')\n",
    "sale_df['Quantity'] = sale_df['Quantity'].astype('float')\n",
    "sale_df['Total'] = sale_df['Total'].astype('float')\n",
    "sale_df[\"Date\"]=pd.to_datetime(sale_df[\"Date\"],format=\"%Y-%m-%d\")"
   ]
  },
  {
   "cell_type": "code",
   "execution_count": 8,
   "metadata": {},
   "outputs": [
    {
     "data": {
      "text/html": [
       "<div>\n",
       "<style scoped>\n",
       "    .dataframe tbody tr th:only-of-type {\n",
       "        vertical-align: middle;\n",
       "    }\n",
       "\n",
       "    .dataframe tbody tr th {\n",
       "        vertical-align: top;\n",
       "    }\n",
       "\n",
       "    .dataframe thead th {\n",
       "        text-align: right;\n",
       "    }\n",
       "</style>\n",
       "<table border=\"1\" class=\"dataframe\">\n",
       "  <thead>\n",
       "    <tr style=\"text-align: right;\">\n",
       "      <th></th>\n",
       "      <th>Invoice ID</th>\n",
       "      <th>Date</th>\n",
       "      <th>Time</th>\n",
       "      <th>Gender</th>\n",
       "      <th>Location</th>\n",
       "      <th>City</th>\n",
       "      <th>Member</th>\n",
       "      <th>Category</th>\n",
       "      <th>Price</th>\n",
       "      <th>Quantity</th>\n",
       "      <th>Total</th>\n",
       "      <th>Payment</th>\n",
       "      <th>Rating</th>\n",
       "      <th>weekday</th>\n",
       "    </tr>\n",
       "  </thead>\n",
       "  <tbody>\n",
       "    <tr>\n",
       "      <td>0</td>\n",
       "      <td>460489604</td>\n",
       "      <td>2018-01-25</td>\n",
       "      <td>16:46</td>\n",
       "      <td>Male</td>\n",
       "      <td>Brookfield</td>\n",
       "      <td>NewYork</td>\n",
       "      <td>Yes</td>\n",
       "      <td>Groceries</td>\n",
       "      <td>30.0</td>\n",
       "      <td>1.0</td>\n",
       "      <td>30.0</td>\n",
       "      <td>Cash</td>\n",
       "      <td>2</td>\n",
       "      <td>Thursday</td>\n",
       "    </tr>\n",
       "    <tr>\n",
       "      <td>1</td>\n",
       "      <td>471006167</td>\n",
       "      <td>2018-03-19</td>\n",
       "      <td>16:48</td>\n",
       "      <td>Female</td>\n",
       "      <td>Water tower</td>\n",
       "      <td>Chicago</td>\n",
       "      <td>Yes</td>\n",
       "      <td>Fashion</td>\n",
       "      <td>35.0</td>\n",
       "      <td>5.0</td>\n",
       "      <td>175.0</td>\n",
       "      <td>Card</td>\n",
       "      <td>3</td>\n",
       "      <td>Monday</td>\n",
       "    </tr>\n",
       "    <tr>\n",
       "      <td>2</td>\n",
       "      <td>411909258</td>\n",
       "      <td>2018-02-25</td>\n",
       "      <td>13:33</td>\n",
       "      <td>Male</td>\n",
       "      <td>Water tower</td>\n",
       "      <td>Chicago</td>\n",
       "      <td>No</td>\n",
       "      <td>Clothing</td>\n",
       "      <td>57.0</td>\n",
       "      <td>2.0</td>\n",
       "      <td>114.0</td>\n",
       "      <td>Cash</td>\n",
       "      <td>5</td>\n",
       "      <td>Sunday</td>\n",
       "    </tr>\n",
       "    <tr>\n",
       "      <td>3</td>\n",
       "      <td>487313402</td>\n",
       "      <td>2018-01-22</td>\n",
       "      <td>13:38</td>\n",
       "      <td>Female</td>\n",
       "      <td>Park lane</td>\n",
       "      <td>Dallas</td>\n",
       "      <td>Yes</td>\n",
       "      <td>Sporting</td>\n",
       "      <td>89.0</td>\n",
       "      <td>4.0</td>\n",
       "      <td>356.0</td>\n",
       "      <td>Gpay</td>\n",
       "      <td>1</td>\n",
       "      <td>Monday</td>\n",
       "    </tr>\n",
       "    <tr>\n",
       "      <td>4</td>\n",
       "      <td>197763430</td>\n",
       "      <td>2018-02-18</td>\n",
       "      <td>15:31</td>\n",
       "      <td>Female</td>\n",
       "      <td>Park lane</td>\n",
       "      <td>Dallas</td>\n",
       "      <td>No</td>\n",
       "      <td>Books</td>\n",
       "      <td>82.0</td>\n",
       "      <td>5.0</td>\n",
       "      <td>410.0</td>\n",
       "      <td>Cash</td>\n",
       "      <td>4</td>\n",
       "      <td>Sunday</td>\n",
       "    </tr>\n",
       "  </tbody>\n",
       "</table>\n",
       "</div>"
      ],
      "text/plain": [
       "   Invoice ID       Date   Time  Gender     Location     City Member  \\\n",
       "0   460489604 2018-01-25  16:46    Male   Brookfield  NewYork    Yes   \n",
       "1   471006167 2018-03-19  16:48  Female  Water tower  Chicago    Yes   \n",
       "2   411909258 2018-02-25  13:33    Male  Water tower  Chicago     No   \n",
       "3   487313402 2018-01-22  13:38  Female    Park lane   Dallas    Yes   \n",
       "4   197763430 2018-02-18  15:31  Female    Park lane   Dallas     No   \n",
       "\n",
       "    Category  Price  Quantity  Total Payment  Rating   weekday  \n",
       "0  Groceries   30.0       1.0   30.0    Cash       2  Thursday  \n",
       "1    Fashion   35.0       5.0  175.0    Card       3    Monday  \n",
       "2   Clothing   57.0       2.0  114.0    Cash       5    Sunday  \n",
       "3   Sporting   89.0       4.0  356.0    Gpay       1    Monday  \n",
       "4      Books   82.0       5.0  410.0    Cash       4    Sunday  "
      ]
     },
     "execution_count": 8,
     "metadata": {},
     "output_type": "execute_result"
    }
   ],
   "source": [
    "sale_df[\"weekday\"] = sale_df[\"Date\"].dt.weekday_name\n",
    "sale_df.head()"
   ]
  },
  {
   "cell_type": "code",
   "execution_count": 9,
   "metadata": {},
   "outputs": [
    {
     "data": {
      "text/html": [
       "<div>\n",
       "<style scoped>\n",
       "    .dataframe tbody tr th:only-of-type {\n",
       "        vertical-align: middle;\n",
       "    }\n",
       "\n",
       "    .dataframe tbody tr th {\n",
       "        vertical-align: top;\n",
       "    }\n",
       "\n",
       "    .dataframe thead th {\n",
       "        text-align: right;\n",
       "    }\n",
       "</style>\n",
       "<table border=\"1\" class=\"dataframe\">\n",
       "  <thead>\n",
       "    <tr style=\"text-align: right;\">\n",
       "      <th></th>\n",
       "      <th>Invoice ID</th>\n",
       "      <th>Date</th>\n",
       "      <th>Time</th>\n",
       "      <th>Gender</th>\n",
       "      <th>Location</th>\n",
       "      <th>City</th>\n",
       "      <th>Member</th>\n",
       "      <th>Category</th>\n",
       "      <th>Price</th>\n",
       "      <th>Quantity</th>\n",
       "      <th>Total</th>\n",
       "      <th>Payment</th>\n",
       "      <th>Rating</th>\n",
       "      <th>weekday</th>\n",
       "    </tr>\n",
       "  </thead>\n",
       "  <tbody>\n",
       "    <tr>\n",
       "      <td>469</td>\n",
       "      <td>333840821</td>\n",
       "      <td>2018-01-01</td>\n",
       "      <td>15:52</td>\n",
       "      <td>Male</td>\n",
       "      <td>Water tower</td>\n",
       "      <td>Chicago</td>\n",
       "      <td>Yes</td>\n",
       "      <td>Sporting</td>\n",
       "      <td>93.0</td>\n",
       "      <td>3.0</td>\n",
       "      <td>279.0</td>\n",
       "      <td>Card</td>\n",
       "      <td>4</td>\n",
       "      <td>Monday</td>\n",
       "    </tr>\n",
       "    <tr>\n",
       "      <td>584</td>\n",
       "      <td>522650837</td>\n",
       "      <td>2018-01-01</td>\n",
       "      <td>19:07</td>\n",
       "      <td>Male</td>\n",
       "      <td>Water tower</td>\n",
       "      <td>Chicago</td>\n",
       "      <td>Yes</td>\n",
       "      <td>Clothing</td>\n",
       "      <td>59.0</td>\n",
       "      <td>1.0</td>\n",
       "      <td>59.0</td>\n",
       "      <td>Gpay</td>\n",
       "      <td>1</td>\n",
       "      <td>Monday</td>\n",
       "    </tr>\n",
       "    <tr>\n",
       "      <td>847</td>\n",
       "      <td>987110291</td>\n",
       "      <td>2018-01-01</td>\n",
       "      <td>11:39</td>\n",
       "      <td>Male</td>\n",
       "      <td>Park lane</td>\n",
       "      <td>Dallas</td>\n",
       "      <td>No</td>\n",
       "      <td>Clothing</td>\n",
       "      <td>57.0</td>\n",
       "      <td>2.0</td>\n",
       "      <td>114.0</td>\n",
       "      <td>Cash</td>\n",
       "      <td>5</td>\n",
       "      <td>Monday</td>\n",
       "    </tr>\n",
       "    <tr>\n",
       "      <td>748</td>\n",
       "      <td>140416946</td>\n",
       "      <td>2018-01-01</td>\n",
       "      <td>15:55</td>\n",
       "      <td>Female</td>\n",
       "      <td>Park lane</td>\n",
       "      <td>Dallas</td>\n",
       "      <td>No</td>\n",
       "      <td>Furniture</td>\n",
       "      <td>45.0</td>\n",
       "      <td>1.0</td>\n",
       "      <td>45.0</td>\n",
       "      <td>Gpay</td>\n",
       "      <td>4</td>\n",
       "      <td>Monday</td>\n",
       "    </tr>\n",
       "    <tr>\n",
       "      <td>489</td>\n",
       "      <td>416916918</td>\n",
       "      <td>2018-01-01</td>\n",
       "      <td>17:04</td>\n",
       "      <td>Female</td>\n",
       "      <td>Park lane</td>\n",
       "      <td>Dallas</td>\n",
       "      <td>Yes</td>\n",
       "      <td>Books</td>\n",
       "      <td>83.0</td>\n",
       "      <td>7.0</td>\n",
       "      <td>581.0</td>\n",
       "      <td>Gpay</td>\n",
       "      <td>4</td>\n",
       "      <td>Monday</td>\n",
       "    </tr>\n",
       "  </tbody>\n",
       "</table>\n",
       "</div>"
      ],
      "text/plain": [
       "     Invoice ID       Date   Time  Gender     Location     City Member  \\\n",
       "469   333840821 2018-01-01  15:52    Male  Water tower  Chicago    Yes   \n",
       "584   522650837 2018-01-01  19:07    Male  Water tower  Chicago    Yes   \n",
       "847   987110291 2018-01-01  11:39    Male    Park lane   Dallas     No   \n",
       "748   140416946 2018-01-01  15:55  Female    Park lane   Dallas     No   \n",
       "489   416916918 2018-01-01  17:04  Female    Park lane   Dallas    Yes   \n",
       "\n",
       "      Category  Price  Quantity  Total Payment  Rating weekday  \n",
       "469   Sporting   93.0       3.0  279.0    Card       4  Monday  \n",
       "584   Clothing   59.0       1.0   59.0    Gpay       1  Monday  \n",
       "847   Clothing   57.0       2.0  114.0    Cash       5  Monday  \n",
       "748  Furniture   45.0       1.0   45.0    Gpay       4  Monday  \n",
       "489      Books   83.0       7.0  581.0    Gpay       4  Monday  "
      ]
     },
     "execution_count": 9,
     "metadata": {},
     "output_type": "execute_result"
    }
   ],
   "source": [
    "sale_df = sale_df.sort_values(by = \"Date\", ascending = True)\n",
    "sale_df.head()"
   ]
  },
  {
   "cell_type": "code",
   "execution_count": 10,
   "metadata": {},
   "outputs": [
    {
     "data": {
      "text/html": [
       "<div>\n",
       "<style scoped>\n",
       "    .dataframe tbody tr th:only-of-type {\n",
       "        vertical-align: middle;\n",
       "    }\n",
       "\n",
       "    .dataframe tbody tr th {\n",
       "        vertical-align: top;\n",
       "    }\n",
       "\n",
       "    .dataframe thead th {\n",
       "        text-align: right;\n",
       "    }\n",
       "</style>\n",
       "<table border=\"1\" class=\"dataframe\">\n",
       "  <thead>\n",
       "    <tr style=\"text-align: right;\">\n",
       "      <th></th>\n",
       "      <th>Invoice ID</th>\n",
       "      <th>Date</th>\n",
       "      <th>Time</th>\n",
       "      <th>Gender</th>\n",
       "      <th>Location</th>\n",
       "      <th>City</th>\n",
       "      <th>Member</th>\n",
       "      <th>Category</th>\n",
       "      <th>Price</th>\n",
       "      <th>Quantity</th>\n",
       "      <th>Total</th>\n",
       "      <th>Payment</th>\n",
       "      <th>Rating</th>\n",
       "      <th>weekday</th>\n",
       "    </tr>\n",
       "  </thead>\n",
       "  <tbody>\n",
       "    <tr>\n",
       "      <td>0</td>\n",
       "      <td>333840821</td>\n",
       "      <td>2018-01-01</td>\n",
       "      <td>15:52</td>\n",
       "      <td>Male</td>\n",
       "      <td>Water tower</td>\n",
       "      <td>Chicago</td>\n",
       "      <td>Yes</td>\n",
       "      <td>Sporting</td>\n",
       "      <td>93.0</td>\n",
       "      <td>3.0</td>\n",
       "      <td>279.0</td>\n",
       "      <td>Card</td>\n",
       "      <td>4</td>\n",
       "      <td>Monday</td>\n",
       "    </tr>\n",
       "    <tr>\n",
       "      <td>1</td>\n",
       "      <td>522650837</td>\n",
       "      <td>2018-01-01</td>\n",
       "      <td>19:07</td>\n",
       "      <td>Male</td>\n",
       "      <td>Water tower</td>\n",
       "      <td>Chicago</td>\n",
       "      <td>Yes</td>\n",
       "      <td>Clothing</td>\n",
       "      <td>59.0</td>\n",
       "      <td>1.0</td>\n",
       "      <td>59.0</td>\n",
       "      <td>Gpay</td>\n",
       "      <td>1</td>\n",
       "      <td>Monday</td>\n",
       "    </tr>\n",
       "    <tr>\n",
       "      <td>2</td>\n",
       "      <td>987110291</td>\n",
       "      <td>2018-01-01</td>\n",
       "      <td>11:39</td>\n",
       "      <td>Male</td>\n",
       "      <td>Park lane</td>\n",
       "      <td>Dallas</td>\n",
       "      <td>No</td>\n",
       "      <td>Clothing</td>\n",
       "      <td>57.0</td>\n",
       "      <td>2.0</td>\n",
       "      <td>114.0</td>\n",
       "      <td>Cash</td>\n",
       "      <td>5</td>\n",
       "      <td>Monday</td>\n",
       "    </tr>\n",
       "    <tr>\n",
       "      <td>3</td>\n",
       "      <td>140416946</td>\n",
       "      <td>2018-01-01</td>\n",
       "      <td>15:55</td>\n",
       "      <td>Female</td>\n",
       "      <td>Park lane</td>\n",
       "      <td>Dallas</td>\n",
       "      <td>No</td>\n",
       "      <td>Furniture</td>\n",
       "      <td>45.0</td>\n",
       "      <td>1.0</td>\n",
       "      <td>45.0</td>\n",
       "      <td>Gpay</td>\n",
       "      <td>4</td>\n",
       "      <td>Monday</td>\n",
       "    </tr>\n",
       "    <tr>\n",
       "      <td>4</td>\n",
       "      <td>416916918</td>\n",
       "      <td>2018-01-01</td>\n",
       "      <td>17:04</td>\n",
       "      <td>Female</td>\n",
       "      <td>Park lane</td>\n",
       "      <td>Dallas</td>\n",
       "      <td>Yes</td>\n",
       "      <td>Books</td>\n",
       "      <td>83.0</td>\n",
       "      <td>7.0</td>\n",
       "      <td>581.0</td>\n",
       "      <td>Gpay</td>\n",
       "      <td>4</td>\n",
       "      <td>Monday</td>\n",
       "    </tr>\n",
       "  </tbody>\n",
       "</table>\n",
       "</div>"
      ],
      "text/plain": [
       "   Invoice ID       Date   Time  Gender     Location     City Member  \\\n",
       "0   333840821 2018-01-01  15:52    Male  Water tower  Chicago    Yes   \n",
       "1   522650837 2018-01-01  19:07    Male  Water tower  Chicago    Yes   \n",
       "2   987110291 2018-01-01  11:39    Male    Park lane   Dallas     No   \n",
       "3   140416946 2018-01-01  15:55  Female    Park lane   Dallas     No   \n",
       "4   416916918 2018-01-01  17:04  Female    Park lane   Dallas    Yes   \n",
       "\n",
       "    Category  Price  Quantity  Total Payment  Rating weekday  \n",
       "0   Sporting   93.0       3.0  279.0    Card       4  Monday  \n",
       "1   Clothing   59.0       1.0   59.0    Gpay       1  Monday  \n",
       "2   Clothing   57.0       2.0  114.0    Cash       5  Monday  \n",
       "3  Furniture   45.0       1.0   45.0    Gpay       4  Monday  \n",
       "4      Books   83.0       7.0  581.0    Gpay       4  Monday  "
      ]
     },
     "execution_count": 10,
     "metadata": {},
     "output_type": "execute_result"
    }
   ],
   "source": [
    "sale_df = sale_df.reset_index(drop = True)\n",
    "sale_df.head()"
   ]
  },
  {
   "cell_type": "code",
   "execution_count": 11,
   "metadata": {},
   "outputs": [
    {
     "data": {
      "text/html": [
       "<div>\n",
       "<style scoped>\n",
       "    .dataframe tbody tr th:only-of-type {\n",
       "        vertical-align: middle;\n",
       "    }\n",
       "\n",
       "    .dataframe tbody tr th {\n",
       "        vertical-align: top;\n",
       "    }\n",
       "\n",
       "    .dataframe thead th {\n",
       "        text-align: right;\n",
       "    }\n",
       "</style>\n",
       "<table border=\"1\" class=\"dataframe\">\n",
       "  <thead>\n",
       "    <tr style=\"text-align: right;\">\n",
       "      <th></th>\n",
       "      <th>Invoice ID</th>\n",
       "      <th>Price</th>\n",
       "      <th>Quantity</th>\n",
       "      <th>Total</th>\n",
       "      <th>Rating</th>\n",
       "    </tr>\n",
       "  </thead>\n",
       "  <tbody>\n",
       "    <tr>\n",
       "      <td>count</td>\n",
       "      <td>1.000000e+03</td>\n",
       "      <td>1000.000000</td>\n",
       "      <td>1000.000000</td>\n",
       "      <td>1000.000000</td>\n",
       "      <td>1000.000000</td>\n",
       "    </tr>\n",
       "    <tr>\n",
       "      <td>mean</td>\n",
       "      <td>4.944931e+08</td>\n",
       "      <td>51.112000</td>\n",
       "      <td>4.059000</td>\n",
       "      <td>207.788000</td>\n",
       "      <td>2.972000</td>\n",
       "    </tr>\n",
       "    <tr>\n",
       "      <td>std</td>\n",
       "      <td>2.870685e+08</td>\n",
       "      <td>28.912443</td>\n",
       "      <td>2.027716</td>\n",
       "      <td>165.626167</td>\n",
       "      <td>1.428025</td>\n",
       "    </tr>\n",
       "    <tr>\n",
       "      <td>min</td>\n",
       "      <td>6.614050e+05</td>\n",
       "      <td>1.000000</td>\n",
       "      <td>1.000000</td>\n",
       "      <td>1.000000</td>\n",
       "      <td>1.000000</td>\n",
       "    </tr>\n",
       "    <tr>\n",
       "      <td>25%</td>\n",
       "      <td>2.508726e+08</td>\n",
       "      <td>27.000000</td>\n",
       "      <td>2.000000</td>\n",
       "      <td>72.000000</td>\n",
       "      <td>2.000000</td>\n",
       "    </tr>\n",
       "    <tr>\n",
       "      <td>50%</td>\n",
       "      <td>4.781491e+08</td>\n",
       "      <td>51.000000</td>\n",
       "      <td>4.000000</td>\n",
       "      <td>174.000000</td>\n",
       "      <td>3.000000</td>\n",
       "    </tr>\n",
       "    <tr>\n",
       "      <td>75%</td>\n",
       "      <td>7.459453e+08</td>\n",
       "      <td>76.250000</td>\n",
       "      <td>6.000000</td>\n",
       "      <td>304.500000</td>\n",
       "      <td>4.000000</td>\n",
       "    </tr>\n",
       "    <tr>\n",
       "      <td>max</td>\n",
       "      <td>9.996658e+08</td>\n",
       "      <td>100.000000</td>\n",
       "      <td>7.000000</td>\n",
       "      <td>693.000000</td>\n",
       "      <td>5.000000</td>\n",
       "    </tr>\n",
       "  </tbody>\n",
       "</table>\n",
       "</div>"
      ],
      "text/plain": [
       "         Invoice ID        Price     Quantity        Total       Rating\n",
       "count  1.000000e+03  1000.000000  1000.000000  1000.000000  1000.000000\n",
       "mean   4.944931e+08    51.112000     4.059000   207.788000     2.972000\n",
       "std    2.870685e+08    28.912443     2.027716   165.626167     1.428025\n",
       "min    6.614050e+05     1.000000     1.000000     1.000000     1.000000\n",
       "25%    2.508726e+08    27.000000     2.000000    72.000000     2.000000\n",
       "50%    4.781491e+08    51.000000     4.000000   174.000000     3.000000\n",
       "75%    7.459453e+08    76.250000     6.000000   304.500000     4.000000\n",
       "max    9.996658e+08   100.000000     7.000000   693.000000     5.000000"
      ]
     },
     "execution_count": 11,
     "metadata": {},
     "output_type": "execute_result"
    }
   ],
   "source": [
    "sale_df.describe()"
   ]
  },
  {
   "cell_type": "markdown",
   "metadata": {},
   "source": [
    "### Monthly Sales"
   ]
  },
  {
   "cell_type": "code",
   "execution_count": 12,
   "metadata": {},
   "outputs": [
    {
     "data": {
      "text/plain": [
       "1000"
      ]
     },
     "execution_count": 12,
     "metadata": {},
     "output_type": "execute_result"
    }
   ],
   "source": [
    "totalNum = sale_df.shape[0]\n",
    "totalNum"
   ]
  },
  {
   "cell_type": "code",
   "execution_count": 13,
   "metadata": {},
   "outputs": [
    {
     "data": {
      "text/plain": [
       "2.93"
      ]
     },
     "execution_count": 13,
     "metadata": {},
     "output_type": "execute_result"
    }
   ],
   "source": [
    "days = (sale_df[\"Date\"][totalNum-1]-sale_df[\"Date\"][0]).days\n",
    "months = round(days/30,2)\n",
    "months"
   ]
  },
  {
   "cell_type": "markdown",
   "metadata": {},
   "source": [
    "### Monthly Amounts"
   ]
  },
  {
   "cell_type": "code",
   "execution_count": 14,
   "metadata": {},
   "outputs": [
    {
     "data": {
      "text/plain": [
       "341.3"
      ]
     },
     "execution_count": 14,
     "metadata": {},
     "output_type": "execute_result"
    }
   ],
   "source": [
    "kpi_1 = round(totalNum/months,2)\n",
    "kpi_1"
   ]
  },
  {
   "cell_type": "code",
   "execution_count": 15,
   "metadata": {},
   "outputs": [
    {
     "data": {
      "text/plain": [
       "207788.0"
      ]
     },
     "execution_count": 15,
     "metadata": {},
     "output_type": "execute_result"
    }
   ],
   "source": [
    "totalSale = sale_df[\"Total\"].sum()\n",
    "totalSale"
   ]
  },
  {
   "cell_type": "code",
   "execution_count": 16,
   "metadata": {},
   "outputs": [
    {
     "data": {
      "text/plain": [
       "70917.41"
      ]
     },
     "execution_count": 16,
     "metadata": {},
     "output_type": "execute_result"
    }
   ],
   "source": [
    "kpi_2 = round(totalSale/months,2)\n",
    "kpi_2"
   ]
  },
  {
   "cell_type": "markdown",
   "metadata": {},
   "source": [
    "### Monthly Spend per Customer"
   ]
  },
  {
   "cell_type": "code",
   "execution_count": 17,
   "metadata": {},
   "outputs": [
    {
     "data": {
      "text/plain": [
       "208.0"
      ]
     },
     "execution_count": 17,
     "metadata": {},
     "output_type": "execute_result"
    }
   ],
   "source": [
    "kpi_3 = round(totalSale/totalNum)\n",
    "kpi_3"
   ]
  },
  {
   "cell_type": "markdown",
   "metadata": {},
   "source": [
    "### Plotting Time"
   ]
  },
  {
   "cell_type": "code",
   "execution_count": 18,
   "metadata": {},
   "outputs": [
    {
     "data": {
      "text/html": [
       "<div>\n",
       "<style scoped>\n",
       "    .dataframe tbody tr th:only-of-type {\n",
       "        vertical-align: middle;\n",
       "    }\n",
       "\n",
       "    .dataframe tbody tr th {\n",
       "        vertical-align: top;\n",
       "    }\n",
       "\n",
       "    .dataframe thead th {\n",
       "        text-align: right;\n",
       "    }\n",
       "</style>\n",
       "<table border=\"1\" class=\"dataframe\">\n",
       "  <thead>\n",
       "    <tr style=\"text-align: right;\">\n",
       "      <th></th>\n",
       "      <th>Invoice ID</th>\n",
       "      <th>Date</th>\n",
       "      <th>Time</th>\n",
       "      <th>Gender</th>\n",
       "      <th>Location</th>\n",
       "      <th>City</th>\n",
       "      <th>Member</th>\n",
       "      <th>Category</th>\n",
       "      <th>Price</th>\n",
       "      <th>Quantity</th>\n",
       "      <th>Total</th>\n",
       "      <th>Payment</th>\n",
       "      <th>Rating</th>\n",
       "      <th>weekday</th>\n",
       "    </tr>\n",
       "    <tr>\n",
       "      <th>Date</th>\n",
       "      <th></th>\n",
       "      <th></th>\n",
       "      <th></th>\n",
       "      <th></th>\n",
       "      <th></th>\n",
       "      <th></th>\n",
       "      <th></th>\n",
       "      <th></th>\n",
       "      <th></th>\n",
       "      <th></th>\n",
       "      <th></th>\n",
       "      <th></th>\n",
       "      <th></th>\n",
       "      <th></th>\n",
       "    </tr>\n",
       "  </thead>\n",
       "  <tbody>\n",
       "    <tr>\n",
       "      <td>2018-01-01</td>\n",
       "      <td>333840821</td>\n",
       "      <td>2018-01-01</td>\n",
       "      <td>15:52</td>\n",
       "      <td>Male</td>\n",
       "      <td>Water tower</td>\n",
       "      <td>Chicago</td>\n",
       "      <td>Yes</td>\n",
       "      <td>Sporting</td>\n",
       "      <td>93.0</td>\n",
       "      <td>3.0</td>\n",
       "      <td>279.0</td>\n",
       "      <td>Card</td>\n",
       "      <td>4</td>\n",
       "      <td>Monday</td>\n",
       "    </tr>\n",
       "    <tr>\n",
       "      <td>2018-01-01</td>\n",
       "      <td>522650837</td>\n",
       "      <td>2018-01-01</td>\n",
       "      <td>19:07</td>\n",
       "      <td>Male</td>\n",
       "      <td>Water tower</td>\n",
       "      <td>Chicago</td>\n",
       "      <td>Yes</td>\n",
       "      <td>Clothing</td>\n",
       "      <td>59.0</td>\n",
       "      <td>1.0</td>\n",
       "      <td>59.0</td>\n",
       "      <td>Gpay</td>\n",
       "      <td>1</td>\n",
       "      <td>Monday</td>\n",
       "    </tr>\n",
       "    <tr>\n",
       "      <td>2018-01-01</td>\n",
       "      <td>987110291</td>\n",
       "      <td>2018-01-01</td>\n",
       "      <td>11:39</td>\n",
       "      <td>Male</td>\n",
       "      <td>Park lane</td>\n",
       "      <td>Dallas</td>\n",
       "      <td>No</td>\n",
       "      <td>Clothing</td>\n",
       "      <td>57.0</td>\n",
       "      <td>2.0</td>\n",
       "      <td>114.0</td>\n",
       "      <td>Cash</td>\n",
       "      <td>5</td>\n",
       "      <td>Monday</td>\n",
       "    </tr>\n",
       "    <tr>\n",
       "      <td>2018-01-01</td>\n",
       "      <td>140416946</td>\n",
       "      <td>2018-01-01</td>\n",
       "      <td>15:55</td>\n",
       "      <td>Female</td>\n",
       "      <td>Park lane</td>\n",
       "      <td>Dallas</td>\n",
       "      <td>No</td>\n",
       "      <td>Furniture</td>\n",
       "      <td>45.0</td>\n",
       "      <td>1.0</td>\n",
       "      <td>45.0</td>\n",
       "      <td>Gpay</td>\n",
       "      <td>4</td>\n",
       "      <td>Monday</td>\n",
       "    </tr>\n",
       "    <tr>\n",
       "      <td>2018-01-01</td>\n",
       "      <td>416916918</td>\n",
       "      <td>2018-01-01</td>\n",
       "      <td>17:04</td>\n",
       "      <td>Female</td>\n",
       "      <td>Park lane</td>\n",
       "      <td>Dallas</td>\n",
       "      <td>Yes</td>\n",
       "      <td>Books</td>\n",
       "      <td>83.0</td>\n",
       "      <td>7.0</td>\n",
       "      <td>581.0</td>\n",
       "      <td>Gpay</td>\n",
       "      <td>4</td>\n",
       "      <td>Monday</td>\n",
       "    </tr>\n",
       "  </tbody>\n",
       "</table>\n",
       "</div>"
      ],
      "text/plain": [
       "            Invoice ID       Date   Time  Gender     Location     City Member  \\\n",
       "Date                                                                            \n",
       "2018-01-01   333840821 2018-01-01  15:52    Male  Water tower  Chicago    Yes   \n",
       "2018-01-01   522650837 2018-01-01  19:07    Male  Water tower  Chicago    Yes   \n",
       "2018-01-01   987110291 2018-01-01  11:39    Male    Park lane   Dallas     No   \n",
       "2018-01-01   140416946 2018-01-01  15:55  Female    Park lane   Dallas     No   \n",
       "2018-01-01   416916918 2018-01-01  17:04  Female    Park lane   Dallas    Yes   \n",
       "\n",
       "             Category  Price  Quantity  Total Payment  Rating weekday  \n",
       "Date                                                                   \n",
       "2018-01-01   Sporting   93.0       3.0  279.0    Card       4  Monday  \n",
       "2018-01-01   Clothing   59.0       1.0   59.0    Gpay       1  Monday  \n",
       "2018-01-01   Clothing   57.0       2.0  114.0    Cash       5  Monday  \n",
       "2018-01-01  Furniture   45.0       1.0   45.0    Gpay       4  Monday  \n",
       "2018-01-01      Books   83.0       7.0  581.0    Gpay       4  Monday  "
      ]
     },
     "execution_count": 18,
     "metadata": {},
     "output_type": "execute_result"
    }
   ],
   "source": [
    "market = sale_df\n",
    "\n",
    "market.index = market[\"Date\"]\n",
    "market.head()"
   ]
  },
  {
   "cell_type": "markdown",
   "metadata": {},
   "source": [
    "### Month"
   ]
  },
  {
   "cell_type": "code",
   "execution_count": 19,
   "metadata": {},
   "outputs": [
    {
     "data": {
      "text/plain": [
       "Date\n",
       "3    72286.0\n",
       "1    71652.0\n",
       "2    63850.0\n",
       "Name: Total, dtype: float64"
      ]
     },
     "execution_count": 19,
     "metadata": {},
     "output_type": "execute_result"
    }
   ],
   "source": [
    "month_sale = market.groupby(market.index.month)\n",
    "\n",
    "\n",
    "total_month_sale = month_sale[\"Total\"].sum()\n",
    "total_month_sale = total_month_sale.sort_values(ascending=False)\n",
    "total_month_sale"
   ]
  },
  {
   "cell_type": "code",
   "execution_count": 20,
   "metadata": {
    "scrolled": false
   },
   "outputs": [
    {
     "data": {
      "image/png": "[encoded data removed]",
      "text/plain": [
       "<Figure size 800x400 with 1 Axes>"
      ]
     },
     "metadata": {
      "needs_background": "light"
     },
     "output_type": "display_data"
    }
   ],
   "source": [
    "plt.figure(figsize = (10,5),dpi = 80)\n",
    "\n",
    "total_month_sale.plot(kind = 'bar', label = 'Monthly Sales')\n",
    "\n",
    "plt.xlabel('Month', fontsize = 13)\n",
    "plt.ylabel('Total Sales', fontsize = 13)\n",
    "\n",
    "xticks = ['March',\"Janurary\",\"Feburary\"]\n",
    "plt.xticks(range(len(total_month_sale.index)),xticks,rotation=0,fontsize=10)\n",
    "\n",
    "for a,b in zip(range(len(total_month_sale.index)),total_month_sale.values):\n",
    "    plt.text(a,b,b,ha=\"center\",va=\"bottom\",fontsize=10)\n",
    "    \n",
    "    \n",
    "plt.legend(loc='best')\n",
    "plt.grid(alpha=0.4,axis=\"y\",linestyle=\"--\",linewidth=1.5)\n",
    "plt.title(\"Total Sales Per Month\",fontsize=15)\n",
    "plt.show()"
   ]
  },
  {
   "cell_type": "markdown",
   "metadata": {},
   "source": [
    "### Weekday"
   ]
  },
  {
   "cell_type": "code",
   "execution_count": 21,
   "metadata": {},
   "outputs": [
    {
     "data": {
      "text/plain": [
       "weekday\n",
       "Friday       34128.0\n",
       "Monday       32414.0\n",
       "Thursday     30940.0\n",
       "Tuesday      28626.0\n",
       "Saturday     28444.0\n",
       "Wednesday    28246.0\n",
       "Sunday       24990.0\n",
       "Name: Total, dtype: float64"
      ]
     },
     "execution_count": 21,
     "metadata": {},
     "output_type": "execute_result"
    }
   ],
   "source": [
    "week_sale = market.groupby('weekday')['Total'].sum()\n",
    "week_sale = week_sale.sort_values(ascending = False)\n",
    "week_sale"
   ]
  },
  {
   "cell_type": "code",
   "execution_count": 22,
   "metadata": {},
   "outputs": [
    {
     "data": {
      "image/png": "[encoded data removed]",
      "text/plain": [
       "<Figure size 800x400 with 1 Axes>"
      ]
     },
     "metadata": {
      "needs_background": "light"
     },
     "output_type": "display_data"
    }
   ],
   "source": [
    "plt.figure(figsize = (10,5),dpi = 80)\n",
    "\n",
    "week_sale.plot(kind = 'bar', label = 'Weekday Sales')\n",
    "\n",
    "plt.xlabel('Weekday', fontsize = 13)\n",
    "plt.ylabel('Total Sales', fontsize = 13)\n",
    "\n",
    "plt.xticks(rotation=0,fontsize=10)\n",
    "\n",
    "for a,b in zip(range(len(week_sale.index)),week_sale.values):\n",
    "    plt.text(a,b,b,ha=\"center\",va=\"bottom\",fontsize=10)\n",
    "    \n",
    "    \n",
    "plt.legend(loc='best')\n",
    "plt.grid(alpha=0.4,axis=\"y\",linestyle=\"--\",linewidth=1.5)\n",
    "plt.title(\"Total Sales Per Day\",fontsize=15)\n",
    "plt.show()"
   ]
  },
  {
   "cell_type": "markdown",
   "metadata": {},
   "source": [
    "### Day"
   ]
  },
  {
   "cell_type": "code",
   "execution_count": 23,
   "metadata": {},
   "outputs": [
    {
     "data": {
      "text/plain": [
       "Date\n",
       "2018-01-01    2649.0\n",
       "2018-01-02    2166.0\n",
       "2018-01-03    2374.0\n",
       "2018-01-04    1192.0\n",
       "2018-01-05    1773.0\n",
       "               ...  \n",
       "2018-03-26    2122.0\n",
       "2018-03-27    2716.0\n",
       "2018-03-28    2412.0\n",
       "2018-03-29    1944.0\n",
       "2018-03-30    2070.0\n",
       "Name: Total, Length: 89, dtype: float64"
      ]
     },
     "execution_count": 23,
     "metadata": {},
     "output_type": "execute_result"
    }
   ],
   "source": [
    "day_sale = market.groupby(by = market.index)['Total'].sum()\n",
    "day_sale = day_sale.sort_index(ascending = True)\n",
    "day_sale"
   ]
  },
  {
   "cell_type": "code",
   "execution_count": 24,
   "metadata": {},
   "outputs": [
    {
     "data": {
      "image/png": "[encoded data removed]",
      "text/plain": [
       "<Figure size 1600x400 with 1 Axes>"
      ]
     },
     "metadata": {
      "needs_background": "light"
     },
     "output_type": "display_data"
    },
    {
     "data": {
      "text/plain": [
       "<Figure size 432x288 with 0 Axes>"
      ]
     },
     "metadata": {},
     "output_type": "display_data"
    }
   ],
   "source": [
    "plt.figure(figsize=(20,5),dpi=80)\n",
    "\n",
    "plt.plot(day_sale,label= 'Total Sale')\n",
    "\n",
    "max_index = day_sale.idxmax()\n",
    "\n",
    "plt.plot(max_index,day_sale[max_index],\"*\",markersize = 20)\n",
    "\n",
    "show_max='('+str(max_index)+' '+str(day_sale[max_index])+')'\n",
    "\n",
    "plt.annotate(show_max,xytext=(max_index,day_sale[max_index]),xy=(max_index,day_sale[max_index]))\n",
    "\n",
    "plt.xlabel(\"Day\",fontsize=13)\n",
    "plt.ylabel(\"Total Sale\",fontsize=13)\n",
    "plt.xticks(fontsize=10)\n",
    "plt.legend(loc='lower right')\n",
    "plt.title(\"Total Sale Per Day\",fontsize=15)\n",
    "\n",
    "plt.show()\n",
    "plt.tight_layout()\n"
   ]
  },
  {
   "cell_type": "markdown",
   "metadata": {},
   "source": [
    "### Top Sales Volume Category"
   ]
  },
  {
   "cell_type": "code",
   "execution_count": 25,
   "metadata": {},
   "outputs": [
    {
     "data": {
      "text/plain": [
       "Category\n",
       "Sporting     717.0\n",
       "Clothing     705.0\n",
       "Books        681.0\n",
       "Furniture    668.0\n",
       "Groceries    660.0\n",
       "Fashion      628.0\n",
       "Name: Quantity, dtype: float64"
      ]
     },
     "execution_count": 25,
     "metadata": {},
     "output_type": "execute_result"
    }
   ],
   "source": [
    "quantity_category = market.groupby(by = 'Category')['Quantity'].sum()\n",
    "quantity_category = quantity_category.sort_values(ascending = False)\n",
    "quantity_category"
   ]
  },
  {
   "cell_type": "code",
   "execution_count": 26,
   "metadata": {},
   "outputs": [
    {
     "data": {
      "image/png": "[encoded data removed]",
      "text/plain": [
       "<Figure size 800x400 with 1 Axes>"
      ]
     },
     "metadata": {
      "needs_background": "light"
     },
     "output_type": "display_data"
    }
   ],
   "source": [
    "plt.figure(figsize = (10,5),dpi = 80)\n",
    "\n",
    "quantity_category.plot(kind = 'bar', label = 'Category Sales Volume')\n",
    "\n",
    "plt.xlabel('Category', fontsize = 13)\n",
    "plt.ylabel('Sales Volume', fontsize = 13)\n",
    "\n",
    "plt.xticks(rotation=0,fontsize=10)\n",
    "\n",
    "for a,b in zip(range(len(quantity_category.index)),quantity_category.values):\n",
    "    plt.text(a,b,b,ha=\"center\",va=\"bottom\",fontsize=10)\n",
    "    \n",
    "    \n",
    "plt.legend(loc='best')\n",
    "plt.grid(alpha=0.4,axis=\"y\",linestyle=\"--\",linewidth=1.5)\n",
    "plt.title(\"Total Sales Volume Per Category\",fontsize=15)\n",
    "plt.show()"
   ]
  },
  {
   "cell_type": "markdown",
   "metadata": {},
   "source": [
    "### Top Sales Category "
   ]
  },
  {
   "cell_type": "code",
   "execution_count": 27,
   "metadata": {},
   "outputs": [
    {
     "data": {
      "text/plain": [
       "Category\n",
       "Sporting     37605.0\n",
       "Books        36103.0\n",
       "Clothing     35925.0\n",
       "Furniture    34141.0\n",
       "Fashion      32778.0\n",
       "Groceries    31236.0\n",
       "Name: Total, dtype: float64"
      ]
     },
     "execution_count": 27,
     "metadata": {},
     "output_type": "execute_result"
    }
   ],
   "source": [
    "top_category = market.groupby(by = 'Category')['Total'].sum()\n",
    "top_category = top_category.sort_values(ascending = False)\n",
    "top_category"
   ]
  },
  {
   "cell_type": "code",
   "execution_count": 28,
   "metadata": {},
   "outputs": [
    {
     "data": {
      "image/png": "[encoded data removed]",
      "text/plain": [
       "<Figure size 800x400 with 1 Axes>"
      ]
     },
     "metadata": {
      "needs_background": "light"
     },
     "output_type": "display_data"
    }
   ],
   "source": [
    "plt.figure(figsize = (10,5),dpi = 80)\n",
    "\n",
    "top_category.plot(kind = 'bar', label = 'Category Sales')\n",
    "\n",
    "plt.xlabel('Category', fontsize = 13)\n",
    "plt.ylabel('Total Sales', fontsize = 13)\n",
    "\n",
    "plt.xticks(rotation=0,fontsize=10)\n",
    "\n",
    "for a,b in zip(range(len(top_category.index)),top_category.values):\n",
    "    plt.text(a,b,b,ha=\"center\",va=\"bottom\",fontsize=10)\n",
    "    \n",
    "    \n",
    "plt.legend(loc='best')\n",
    "plt.grid(alpha=0.4,axis=\"y\",linestyle=\"--\",linewidth=1.5)\n",
    "plt.title(\"Total Sales Per Category\",fontsize=15)\n",
    "plt.show()"
   ]
  },
  {
   "cell_type": "markdown",
   "metadata": {},
   "source": [
    "### Top Sales Volume & Sales"
   ]
  },
  {
   "cell_type": "code",
   "execution_count": 29,
   "metadata": {},
   "outputs": [
    {
     "name": "stdout",
     "output_type": "stream",
     "text": [
      "           Quantity\n",
      "Category           \n",
      "Sporting      717.0\n",
      "Clothing      705.0\n",
      "Books         681.0\n",
      "Furniture     668.0\n",
      "Groceries     660.0\n",
      "Fashion       628.0\n",
      "             Total\n",
      "Category          \n",
      "Sporting   37605.0\n",
      "Books      36103.0\n",
      "Clothing   35925.0\n",
      "Furniture  34141.0\n",
      "Fashion    32778.0\n",
      "Groceries  31236.0\n"
     ]
    }
   ],
   "source": [
    "quantity_category = quantity_category.to_frame()\n",
    "top_category = top_category.to_frame()\n",
    "\n",
    "print(quantity_category)\n",
    "print(top_category)"
   ]
  },
  {
   "cell_type": "code",
   "execution_count": 30,
   "metadata": {},
   "outputs": [
    {
     "name": "stdout",
     "output_type": "stream",
     "text": [
      "    Category  Quantity\n",
      "0   Sporting     717.0\n",
      "1   Clothing     705.0\n",
      "2      Books     681.0\n",
      "3  Furniture     668.0\n",
      "4  Groceries     660.0\n",
      "5    Fashion     628.0\n",
      "    Category    Total\n",
      "0   Sporting  37605.0\n",
      "1      Books  36103.0\n",
      "2   Clothing  35925.0\n",
      "3  Furniture  34141.0\n",
      "4    Fashion  32778.0\n",
      "5  Groceries  31236.0\n"
     ]
    }
   ],
   "source": [
    "quantity_category = quantity_category.reset_index()\n",
    "top_category = top_category.reset_index()\n",
    "\n",
    "print(quantity_category)\n",
    "print(top_category)"
   ]
  },
  {
   "cell_type": "code",
   "execution_count": 31,
   "metadata": {},
   "outputs": [
    {
     "data": {
      "text/html": [
       "<div>\n",
       "<style scoped>\n",
       "    .dataframe tbody tr th:only-of-type {\n",
       "        vertical-align: middle;\n",
       "    }\n",
       "\n",
       "    .dataframe tbody tr th {\n",
       "        vertical-align: top;\n",
       "    }\n",
       "\n",
       "    .dataframe thead th {\n",
       "        text-align: right;\n",
       "    }\n",
       "</style>\n",
       "<table border=\"1\" class=\"dataframe\">\n",
       "  <thead>\n",
       "    <tr style=\"text-align: right;\">\n",
       "      <th></th>\n",
       "      <th>Category</th>\n",
       "      <th>Quantity</th>\n",
       "      <th>Total</th>\n",
       "    </tr>\n",
       "  </thead>\n",
       "  <tbody>\n",
       "    <tr>\n",
       "      <td>0</td>\n",
       "      <td>Sporting</td>\n",
       "      <td>717.0</td>\n",
       "      <td>37605.0</td>\n",
       "    </tr>\n",
       "    <tr>\n",
       "      <td>1</td>\n",
       "      <td>Clothing</td>\n",
       "      <td>705.0</td>\n",
       "      <td>35925.0</td>\n",
       "    </tr>\n",
       "    <tr>\n",
       "      <td>2</td>\n",
       "      <td>Books</td>\n",
       "      <td>681.0</td>\n",
       "      <td>36103.0</td>\n",
       "    </tr>\n",
       "    <tr>\n",
       "      <td>3</td>\n",
       "      <td>Furniture</td>\n",
       "      <td>668.0</td>\n",
       "      <td>34141.0</td>\n",
       "    </tr>\n",
       "    <tr>\n",
       "      <td>4</td>\n",
       "      <td>Groceries</td>\n",
       "      <td>660.0</td>\n",
       "      <td>31236.0</td>\n",
       "    </tr>\n",
       "    <tr>\n",
       "      <td>5</td>\n",
       "      <td>Fashion</td>\n",
       "      <td>628.0</td>\n",
       "      <td>32778.0</td>\n",
       "    </tr>\n",
       "  </tbody>\n",
       "</table>\n",
       "</div>"
      ],
      "text/plain": [
       "    Category  Quantity    Total\n",
       "0   Sporting     717.0  37605.0\n",
       "1   Clothing     705.0  35925.0\n",
       "2      Books     681.0  36103.0\n",
       "3  Furniture     668.0  34141.0\n",
       "4  Groceries     660.0  31236.0\n",
       "5    Fashion     628.0  32778.0"
      ]
     },
     "execution_count": 31,
     "metadata": {},
     "output_type": "execute_result"
    }
   ],
   "source": [
    "combine_data = pd.merge(quantity_category, top_category,on =\"Category\",how=\"outer\")\n",
    "combine_data"
   ]
  },
  {
   "cell_type": "code",
   "execution_count": 70,
   "metadata": {},
   "outputs": [
    {
     "data": {
      "image/png": "[encoded data removed]",
      "text/plain": [
       "<Figure size 1200x640 with 2 Axes>"
      ]
     },
     "metadata": {
      "needs_background": "light"
     },
     "output_type": "display_data"
    }
   ],
   "source": [
    "plt.figure(figsize=(15,8),dpi=80)\n",
    "\n",
    "c_list = combine_data['Category']\n",
    "q_list = combine_data[\"Quantity\"]\n",
    "s_list = combine_data[\"Total\"]\n",
    "\n",
    "\n",
    "plt.bar(range(len(c_list)),s_list,width=0.4,label=\"Sales\")\n",
    "\n",
    "plt.xlabel(\"Category\",fontsize=13)\n",
    "plt.xticks(fontsize = 13)\n",
    "plt.ylabel(\"Total Sales\",fontsize=13)\n",
    "plt.yticks(fontsize = 13)\n",
    "\n",
    "plt.legend(loc=\"upper center\")\n",
    "\n",
    "\n",
    "\n",
    "for a,b in zip(range(len(c_list)),s_list):\n",
    "    plt.text(a,b,b,ha=\"center\",va=\"bottom\",fontsize=10)\n",
    "\n",
    "n=[]\n",
    "\n",
    "for i in range(len(c_list)):\n",
    "    i=i+0.2\n",
    "    n.append(i)\n",
    "    \n",
    "plt.xticks(n,c_list,rotation=45)\n",
    "\n",
    "plt.twinx()\n",
    "\n",
    "\n",
    "m=[]\n",
    "for i in range(len(c_list)):\n",
    "    i = i+0.4\n",
    "    m.append(i)\n",
    "    \n",
    "    \n",
    "    \n",
    "plt.bar(m,q_list,width=0.4,color=\"orange\",label=\"Sales Volumn\")\n",
    "\n",
    "plt.ylabel(\"Total Sale Volumn\",fontsize=13)\n",
    "plt.yticks(fontsize = 13)\n",
    "\n",
    "\n",
    "for a,b in zip(range(len(c_list)),q_list):\n",
    "    plt.text(a+0.4,b,b,ha=\"center\",va=\"bottom\",fontsize=10)\n",
    "\n",
    "plt.legend(loc=\"best\")\n",
    "\n",
    "plt.title(\"Top Sales Volume & Sales\",fontsize=18)\n",
    "plt.tight_layout()\n",
    "plt.show()"
   ]
  },
  {
   "cell_type": "code",
   "execution_count": null,
   "metadata": {},
   "outputs": [],
   "source": []
  }
 ],
 "metadata": {
  "kernelspec": {
   "display_name": "Python 3",
   "language": "python",
   "name": "python3"
  },
  "language_info": {
   "codemirror_mode": {
    "name": "ipython",
    "version": 3
   },
   "file_extension": ".py",
   "mimetype": "text/x-python",
   "name": "python",
   "nbconvert_exporter": "python",
   "pygments_lexer": "ipython3",
   "version": "3.7.4"
  }
 },
 "nbformat": 4,
 "nbformat_minor": 2
}
